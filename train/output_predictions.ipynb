{
 "cells": [
  {
   "cell_type": "markdown",
   "id": "d47231de",
   "metadata": {},
   "source": [
    "# Assuming dataset and model are downlaoded from train_sam.ipynb"
   ]
  },
  {
   "cell_type": "code",
   "execution_count": 2,
   "id": "9e41c2e4",
   "metadata": {},
   "outputs": [
    {
     "name": "stderr",
     "output_type": "stream",
     "text": [
      "/home/interns/marawan/miniconda3/envs/FedAlign/lib/python3.7/site-packages/monai/utils/deprecate_utils.py:107: FutureWarning: <class 'monai.transforms.utility.array.AddChannel'>: Class `AddChannel` has been deprecated since version 0.8. please use MetaTensor data type and monai.transforms.EnsureChannelFirst instead.\n",
      "  warn_deprecated(obj, msg, warning_category)\n"
     ]
    }
   ],
   "source": [
    "from monai.transforms import (\n",
    "    Activations,\n",
    "    AddChanneld,\n",
    "    AsDiscrete,\n",
    "    Compose,\n",
    "    LoadImaged,\n",
    "    RandFlipd,\n",
    "    RandRotated,\n",
    "    RandZoomd,\n",
    "    ScaleIntensityd,\n",
    "    EnsureTyped,\n",
    "    Resized,\n",
    "    RandGaussianNoised,\n",
    "    RandGaussianSmoothd,\n",
    "    Rand2DElasticd,\n",
    "    RandAffined,\n",
    "    OneOf,\n",
    "    NormalizeIntensity,\n",
    "    AsChannelFirstd,\n",
    "    EnsureType,\n",
    "    LabelToMaskd,\n",
    "    EnsureChannelFirstd\n",
    "    \n",
    ")\n",
    "\n",
    "val_transform = Compose(\n",
    "    [\n",
    "#         EnsureChannelFirstd(keys=['label'],channel_dim='no_channel'),\n",
    "        AddChanneld(keys=['label']),\n",
    "\n",
    "        ScaleIntensityd(keys=[\"image\"]),\n",
    "\n",
    "        Resized(keys=[\"image\", \"label\"], spatial_size=(512, 512),mode=['area','nearest']),\n",
    "        EnsureTyped(keys=[\"image\"])\n",
    "    ])\n",
    "\n"
   ]
  },
  {
   "cell_type": "code",
   "execution_count": 3,
   "id": "61b9d8b0",
   "metadata": {},
   "outputs": [],
   "source": [
    "# import h5py\n",
    "import numpy as np\n",
    "from pathlib import Path\n",
    "from torch.utils.data import Dataset\n",
    "import SimpleITK\n",
    "\n",
    "root_path=Path('/home/marawan/fetal_miccai2023/Pubic Symphysis-Fetal Head Segmentation and Angle of Progression/')\n",
    "\n",
    "\n",
    "class Fetal_dataset(Dataset):\n",
    "    def __init__(self, list_dir, transform=None):\n",
    "        self.transform = transform  # using transform in torch!\n",
    "#         self.split = split\n",
    "        images = [SimpleITK.GetArrayFromImage(SimpleITK.ReadImage(str(i))) for i in list_dir[0]]\n",
    "        labels = [SimpleITK.GetArrayFromImage(SimpleITK.ReadImage(str(i))) for i in list_dir[1]]\n",
    "\n",
    "        self.sample_list = np.array(list(zip(images,labels)))\n",
    "        \n",
    "        self.resize=Compose([Resized(keys=[\"label\"], spatial_size=(256, 256),mode=['nearest'])])\n",
    "#         self.resize=Resized(keys=[\"image\", \"label\"], spatial_size=(64, 64))\n",
    "\n",
    "    def __len__(self):\n",
    "        return len(self.sample_list)\n",
    "\n",
    "    def __getitem__(self, idx):\n",
    "        \n",
    "        if self.transform:\n",
    "            sample=self.transform({\"image\": self.sample_list[idx][0], \"label\": self.sample_list[idx][1]})\n",
    "        \n",
    "        sample['low_res_label']=self.resize({\"label\":sample['label']})['label'][0]\n",
    "        sample['label']=sample['label'][0]\n",
    "        #         sample['case_name'] = self.sample_list[idx].strip('\\n')\n",
    "        return sample\n",
    "\n",
    "\n",
    "image_files = np.array([(root_path / Path(\"image_mha\")/Path(str(i).zfill(5) + '.mha')) for i in range(1,4000)])\n",
    "label_files = np.array([(root_path / Path(\"label_mha\")/Path(str(i).zfill(5) + '.mha')) for i in range(1,4000)])\n"
   ]
  },
  {
   "cell_type": "code",
   "execution_count": 7,
   "id": "0c28fbed",
   "metadata": {},
   "outputs": [],
   "source": [
    "fold_n=1 #fold_to_test\n",
    "epoch_to_output='epoch_32'"
   ]
  },
  {
   "cell_type": "code",
   "execution_count": 8,
   "id": "7fdb6eee",
   "metadata": {},
   "outputs": [],
   "source": [
    "base_lr = 0.001\n",
    "num_classes = 2\n",
    "batch_size = 64\n",
    "multimask_output = True\n",
    "warmup=1\n",
    "max_epoch = 400\n",
    "save_interval = 5\n",
    "iter_num = 0\n",
    "warmup_period=500\n",
    "weight_decay=7\n",
    "device=6\n",
    "devices=[6,7]"
   ]
  },
  {
   "cell_type": "code",
   "execution_count": 20,
   "id": "2d60938a",
   "metadata": {},
   "outputs": [],
   "source": [
    "import numpy as np\n",
    "from torch.utils.data import DataLoader\n",
    "from importlib import import_module\n",
    "from segment_anything import sam_model_registry\n",
    "import torch\n",
    "import os\n",
    "import cv2\n",
    "from torchvision.transforms import GaussianBlur,RandomHorizontalFlip,RandomVerticalFlip\n"
   ]
  },
  {
   "cell_type": "code",
   "execution_count": 10,
   "id": "49c5f3f8",
   "metadata": {},
   "outputs": [],
   "source": [
    "sam, img_embedding_size = sam_model_registry['vit_h'](image_size=512,\n",
    "                                                      num_classes=2,\n",
    "                                                      checkpoint='checkpoints/sam_vit_h_4b8939.pth',\n",
    "                                                      # checkpoint='./model_weights/sam_vit_b_01ec64.pth',\n",
    "                                                      pixel_mean=[0, 0, 0],\n",
    "                                                      pixel_std=[1, 1, 1])\n",
    "pkg = import_module('sam_lora_image_encoder')\n",
    "model = pkg.LoRA_Sam(sam, 4)"
   ]
  },
  {
   "cell_type": "code",
   "execution_count": 18,
   "id": "a296ca95",
   "metadata": {},
   "outputs": [],
   "source": [
    "path_to_epoch=f\"train/b16_wd7_results/{fold_n}/{epoch_to_output}.pth\" #put ur testing epoch\n",
    "output_path=f\"sample_output/{fold_n}/{epoch_to_output}\""
   ]
  },
  {
   "cell_type": "code",
   "execution_count": 21,
   "id": "c5ff6350",
   "metadata": {},
   "outputs": [
    {
     "name": "stderr",
     "output_type": "stream",
     "text": [
      "/home/interns/marawan/miniconda3/envs/FedAlign/lib/python3.7/site-packages/ipykernel_launcher.py:22: VisibleDeprecationWarning: Creating an ndarray from ragged nested sequences (which is a list-or-tuple of lists-or-tuples-or ndarrays with different lengths or shapes) is deprecated. If you meant to do this, you must specify 'dtype=object' when creating the ndarray.\n"
     ]
    },
    {
     "name": "stdout",
     "output_type": "stream",
     "text": [
      "The length of val set is: 13\n",
      "Batch 12 Done\n"
     ]
    }
   ],
   "source": [
    "TTA=1\n",
    "h_flip=RandomHorizontalFlip(1)\n",
    "v_flip=RandomVerticalFlip(1)\n",
    "\n",
    "n_size=len(image_files)\n",
    "indices=[]\n",
    "all_indices=np.arange(0,4000)\n",
    "\n",
    "resize_to_256=Compose([Resized(keys=[\"label\"], spatial_size=(1,256, 256),mode=['nearest'])])\n",
    "\n",
    "test_index=np.arange(800*fold_n,(fold_n+1)*800-1)\n",
    "train_index=np.setxor1d(all_indices,test_index)[10:-10]\n",
    "\n",
    "db_val = Fetal_dataset(transform=val_transform,list_dir=(image_files[test_index],label_files[test_index]))\n",
    "\n",
    "valloader = DataLoader(db_val, batch_size=batch_size, shuffle=True, num_workers=8, pin_memory=True)\n",
    "\n",
    "print(\"The length of val set is: {}\".format(len(valloader)))\n",
    "\n",
    "\n",
    "os.makedirs(os.path.join(output_path,'labels'),exist_ok=True)\n",
    "os.makedirs(os.path.join(output_path,'prediction'),exist_ok=True)\n",
    "\n",
    "model.load_lora_parameters(path_to_epoch)\n",
    "\n",
    "model = torch.nn.DataParallel(model, device_ids=devices)\n",
    "\n",
    "model.to(device)\n",
    "\n",
    "model.eval()\n",
    "with torch.no_grad():\n",
    "    for i_batch, sampled_batch in enumerate(valloader):\n",
    "        image_batch, label_batch = sampled_batch[\"image\"].to(device), sampled_batch[\"label\"].to(\n",
    "            device)\n",
    "        low_res_label_batch = sampled_batch['low_res_label']\n",
    "        low_res_label_batch = low_res_label_batch.to(device)\n",
    "\n",
    "        assert image_batch.max() <= 3, f'image_batch max: {image_batch.max()}'\n",
    "        if TTA==1:\n",
    "            input_h_flipped =h_flip(image_batch)\n",
    "            outputs = model(image_batch, multimask_output, 512)\n",
    "            outputs_h_flip = model(input_h_flipped, multimask_output, 512)\n",
    "            output_masks=(outputs['masks']+h_flip(outputs_h_flip['masks']))/2\n",
    "        else:\n",
    "\n",
    "            outputs = model(image_batch, multimask_output, 512)\n",
    "            output_masks = outputs['masks']\n",
    "\n",
    "        output_masks = torch.argmax(torch.softmax(output_masks, dim=1), dim=1, keepdim=True)\n",
    "\n",
    "        output_masks=resize_to_256({\"label\":output_masks})[\"label\"]\n",
    "\n",
    "        for i in range(image_batch.size(0)):\n",
    "            cv2.imwrite(f'{output_path}/prediction/out_{(i_batch*batch_size)+i}.png',output_masks[i][0].cpu().numpy())\n",
    "            cv2.imwrite(f'{output_path}/labels/label_{(i_batch*batch_size)+i}.png',sampled_batch['low_res_label'][i].cpu().numpy())\n",
    "        print(f'Batch {i_batch} Done')"
   ]
  }
 ],
 "metadata": {
  "kernelspec": {
   "display_name": "Python 3 (ipykernel)",
   "language": "python",
   "name": "python3"
  },
  "language_info": {
   "codemirror_mode": {
    "name": "ipython",
    "version": 3
   },
   "file_extension": ".py",
   "mimetype": "text/x-python",
   "name": "python",
   "nbconvert_exporter": "python",
   "pygments_lexer": "ipython3",
   "version": "3.7.13"
  }
 },
 "nbformat": 4,
 "nbformat_minor": 5
}
